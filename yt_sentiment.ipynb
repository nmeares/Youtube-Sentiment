{
 "cells": [
  {
   "cell_type": "markdown",
   "metadata": {},
   "source": [
    "### Import dependencies"
   ]
  },
  {
   "cell_type": "code",
   "execution_count": 1,
   "metadata": {},
   "outputs": [],
   "source": [
    "import json\n",
    "import sqlite3\n",
    "import os\n",
    "from datetime import datetime\n",
    "\n",
    "from data_api import youtube\n",
    "from helpers import dict_search"
   ]
  },
  {
   "cell_type": "markdown",
   "metadata": {},
   "source": [
    "### Import Google Data API Key and Initiate Youtube API Class Instance\n",
    "1. Create Youtube Data API as per the instructions at: https://developers.google.com/youtube/v3/getting-started \\\n",
    "\n",
    "2. Set environment variable containing the API key by executing: `export YT_API_KEY=[insert private key here]`"
   ]
  },
  {
   "cell_type": "code",
   "execution_count": 9,
   "metadata": {},
   "outputs": [
    {
     "ename": "DefaultCredentialsError",
     "evalue": "Could not automatically determine credentials. Please set GOOGLE_APPLICATION_CREDENTIALS or explicitly create credentials and re-run the application. For more information, please see https://cloud.google.com/docs/authentication/getting-started",
     "output_type": "error",
     "traceback": [
      "\u001b[0;31m---------------------------------------------------------------------------\u001b[0m",
      "\u001b[0;31mDefaultCredentialsError\u001b[0m                   Traceback (most recent call last)",
      "Input \u001b[0;32mIn [9]\u001b[0m, in \u001b[0;36m<module>\u001b[0;34m\u001b[0m\n\u001b[1;32m      3\u001b[0m \u001b[38;5;28;01mexcept\u001b[39;00m os\u001b[38;5;241m.\u001b[39merror \u001b[38;5;28;01mas\u001b[39;00m error:\n\u001b[1;32m      4\u001b[0m     \u001b[38;5;28mprint\u001b[39m(\u001b[38;5;124m\"\u001b[39m\u001b[38;5;124mUnable to find API key environement variable!\u001b[39m\u001b[38;5;124m\"\u001b[39m, error)\n\u001b[0;32m----> 6\u001b[0m yt \u001b[38;5;241m=\u001b[39m \u001b[43myoutube\u001b[49m\u001b[43m(\u001b[49m\u001b[43mDEVELOPER_KEY\u001b[49m\u001b[43m)\u001b[49m\n",
      "File \u001b[0;32m~/Dev/projects/yt_sentiment/data_api.py:40\u001b[0m, in \u001b[0;36myoutube.__init__\u001b[0;34m(self, api_key, resultsPerPage, maxpages)\u001b[0m\n\u001b[1;32m     38\u001b[0m \u001b[38;5;28mself\u001b[39m\u001b[38;5;241m.\u001b[39mapi_service_name \u001b[38;5;241m=\u001b[39m \u001b[38;5;124m\"\u001b[39m\u001b[38;5;124myoutube\u001b[39m\u001b[38;5;124m\"\u001b[39m\n\u001b[1;32m     39\u001b[0m \u001b[38;5;28mself\u001b[39m\u001b[38;5;241m.\u001b[39mapi_version \u001b[38;5;241m=\u001b[39m \u001b[38;5;124m\"\u001b[39m\u001b[38;5;124mv3\u001b[39m\u001b[38;5;124m\"\u001b[39m\n\u001b[0;32m---> 40\u001b[0m \u001b[38;5;28mself\u001b[39m\u001b[38;5;241m.\u001b[39mapi \u001b[38;5;241m=\u001b[39m \u001b[43mgoogleapiclient\u001b[49m\u001b[38;5;241;43m.\u001b[39;49m\u001b[43mdiscovery\u001b[49m\u001b[38;5;241;43m.\u001b[39;49m\u001b[43mbuild\u001b[49m\u001b[43m(\u001b[49m\n\u001b[1;32m     41\u001b[0m \u001b[43m    \u001b[49m\u001b[38;5;28;43mself\u001b[39;49m\u001b[38;5;241;43m.\u001b[39;49m\u001b[43mapi_service_name\u001b[49m\u001b[43m,\u001b[49m\u001b[43m \u001b[49m\n\u001b[1;32m     42\u001b[0m \u001b[43m    \u001b[49m\u001b[38;5;28;43mself\u001b[39;49m\u001b[38;5;241;43m.\u001b[39;49m\u001b[43mapi_version\u001b[49m\u001b[43m,\u001b[49m\u001b[43m \u001b[49m\n\u001b[1;32m     43\u001b[0m \u001b[43m    \u001b[49m\u001b[43mdeveloperKey\u001b[49m\u001b[38;5;241;43m=\u001b[39;49m\u001b[38;5;28;43mself\u001b[39;49m\u001b[38;5;241;43m.\u001b[39;49m\u001b[43mapi_key\u001b[49m\u001b[43m)\u001b[49m\n",
      "File \u001b[0;32m~/.local/share/virtualenvs/yt_sentiment-8_l80sZx/lib/python3.8/site-packages/googleapiclient/_helpers.py:131\u001b[0m, in \u001b[0;36mpositional.<locals>.positional_decorator.<locals>.positional_wrapper\u001b[0;34m(*args, **kwargs)\u001b[0m\n\u001b[1;32m    129\u001b[0m     \u001b[38;5;28;01melif\u001b[39;00m positional_parameters_enforcement \u001b[38;5;241m==\u001b[39m POSITIONAL_WARNING:\n\u001b[1;32m    130\u001b[0m         logger\u001b[38;5;241m.\u001b[39mwarning(message)\n\u001b[0;32m--> 131\u001b[0m \u001b[38;5;28;01mreturn\u001b[39;00m \u001b[43mwrapped\u001b[49m\u001b[43m(\u001b[49m\u001b[38;5;241;43m*\u001b[39;49m\u001b[43margs\u001b[49m\u001b[43m,\u001b[49m\u001b[43m \u001b[49m\u001b[38;5;241;43m*\u001b[39;49m\u001b[38;5;241;43m*\u001b[39;49m\u001b[43mkwargs\u001b[49m\u001b[43m)\u001b[49m\n",
      "File \u001b[0;32m~/.local/share/virtualenvs/yt_sentiment-8_l80sZx/lib/python3.8/site-packages/googleapiclient/discovery.py:298\u001b[0m, in \u001b[0;36mbuild\u001b[0;34m(serviceName, version, http, discoveryServiceUrl, developerKey, model, requestBuilder, credentials, cache_discovery, cache, client_options, adc_cert_path, adc_key_path, num_retries, static_discovery, always_use_jwt_access)\u001b[0m\n\u001b[1;32m    286\u001b[0m \u001b[38;5;28;01mtry\u001b[39;00m:\n\u001b[1;32m    287\u001b[0m     content \u001b[38;5;241m=\u001b[39m _retrieve_discovery_doc(\n\u001b[1;32m    288\u001b[0m         requested_url,\n\u001b[1;32m    289\u001b[0m         discovery_http,\n\u001b[0;32m   (...)\u001b[0m\n\u001b[1;32m    296\u001b[0m         static_discovery\u001b[38;5;241m=\u001b[39mstatic_discovery,\n\u001b[1;32m    297\u001b[0m     )\n\u001b[0;32m--> 298\u001b[0m     service \u001b[38;5;241m=\u001b[39m \u001b[43mbuild_from_document\u001b[49m\u001b[43m(\u001b[49m\n\u001b[1;32m    299\u001b[0m \u001b[43m        \u001b[49m\u001b[43mcontent\u001b[49m\u001b[43m,\u001b[49m\n\u001b[1;32m    300\u001b[0m \u001b[43m        \u001b[49m\u001b[43mbase\u001b[49m\u001b[38;5;241;43m=\u001b[39;49m\u001b[43mdiscovery_url\u001b[49m\u001b[43m,\u001b[49m\n\u001b[1;32m    301\u001b[0m \u001b[43m        \u001b[49m\u001b[43mhttp\u001b[49m\u001b[38;5;241;43m=\u001b[39;49m\u001b[43mhttp\u001b[49m\u001b[43m,\u001b[49m\n\u001b[1;32m    302\u001b[0m \u001b[43m        \u001b[49m\u001b[43mdeveloperKey\u001b[49m\u001b[38;5;241;43m=\u001b[39;49m\u001b[43mdeveloperKey\u001b[49m\u001b[43m,\u001b[49m\n\u001b[1;32m    303\u001b[0m \u001b[43m        \u001b[49m\u001b[43mmodel\u001b[49m\u001b[38;5;241;43m=\u001b[39;49m\u001b[43mmodel\u001b[49m\u001b[43m,\u001b[49m\n\u001b[1;32m    304\u001b[0m \u001b[43m        \u001b[49m\u001b[43mrequestBuilder\u001b[49m\u001b[38;5;241;43m=\u001b[39;49m\u001b[43mrequestBuilder\u001b[49m\u001b[43m,\u001b[49m\n\u001b[1;32m    305\u001b[0m \u001b[43m        \u001b[49m\u001b[43mcredentials\u001b[49m\u001b[38;5;241;43m=\u001b[39;49m\u001b[43mcredentials\u001b[49m\u001b[43m,\u001b[49m\n\u001b[1;32m    306\u001b[0m \u001b[43m        \u001b[49m\u001b[43mclient_options\u001b[49m\u001b[38;5;241;43m=\u001b[39;49m\u001b[43mclient_options\u001b[49m\u001b[43m,\u001b[49m\n\u001b[1;32m    307\u001b[0m \u001b[43m        \u001b[49m\u001b[43madc_cert_path\u001b[49m\u001b[38;5;241;43m=\u001b[39;49m\u001b[43madc_cert_path\u001b[49m\u001b[43m,\u001b[49m\n\u001b[1;32m    308\u001b[0m \u001b[43m        \u001b[49m\u001b[43madc_key_path\u001b[49m\u001b[38;5;241;43m=\u001b[39;49m\u001b[43madc_key_path\u001b[49m\u001b[43m,\u001b[49m\n\u001b[1;32m    309\u001b[0m \u001b[43m        \u001b[49m\u001b[43malways_use_jwt_access\u001b[49m\u001b[38;5;241;43m=\u001b[39;49m\u001b[43malways_use_jwt_access\u001b[49m\u001b[43m,\u001b[49m\n\u001b[1;32m    310\u001b[0m \u001b[43m    \u001b[49m\u001b[43m)\u001b[49m\n\u001b[1;32m    311\u001b[0m     \u001b[38;5;28;01mbreak\u001b[39;00m  \u001b[38;5;66;03m# exit if a service was created\u001b[39;00m\n\u001b[1;32m    312\u001b[0m \u001b[38;5;28;01mexcept\u001b[39;00m HttpError \u001b[38;5;28;01mas\u001b[39;00m e:\n",
      "File \u001b[0;32m~/.local/share/virtualenvs/yt_sentiment-8_l80sZx/lib/python3.8/site-packages/googleapiclient/_helpers.py:131\u001b[0m, in \u001b[0;36mpositional.<locals>.positional_decorator.<locals>.positional_wrapper\u001b[0;34m(*args, **kwargs)\u001b[0m\n\u001b[1;32m    129\u001b[0m     \u001b[38;5;28;01melif\u001b[39;00m positional_parameters_enforcement \u001b[38;5;241m==\u001b[39m POSITIONAL_WARNING:\n\u001b[1;32m    130\u001b[0m         logger\u001b[38;5;241m.\u001b[39mwarning(message)\n\u001b[0;32m--> 131\u001b[0m \u001b[38;5;28;01mreturn\u001b[39;00m \u001b[43mwrapped\u001b[49m\u001b[43m(\u001b[49m\u001b[38;5;241;43m*\u001b[39;49m\u001b[43margs\u001b[49m\u001b[43m,\u001b[49m\u001b[43m \u001b[49m\u001b[38;5;241;43m*\u001b[39;49m\u001b[38;5;241;43m*\u001b[39;49m\u001b[43mkwargs\u001b[49m\u001b[43m)\u001b[49m\n",
      "File \u001b[0;32m~/.local/share/virtualenvs/yt_sentiment-8_l80sZx/lib/python3.8/site-packages/googleapiclient/discovery.py:576\u001b[0m, in \u001b[0;36mbuild_from_document\u001b[0;34m(service, base, future, http, developerKey, model, requestBuilder, credentials, client_options, adc_cert_path, adc_key_path, always_use_jwt_access)\u001b[0m\n\u001b[1;32m    573\u001b[0m \u001b[38;5;66;03m# If the user didn't pass in credentials, attempt to acquire application\u001b[39;00m\n\u001b[1;32m    574\u001b[0m \u001b[38;5;66;03m# default credentials.\u001b[39;00m\n\u001b[1;32m    575\u001b[0m \u001b[38;5;28;01mif\u001b[39;00m credentials \u001b[38;5;129;01mis\u001b[39;00m \u001b[38;5;28;01mNone\u001b[39;00m:\n\u001b[0;32m--> 576\u001b[0m     credentials \u001b[38;5;241m=\u001b[39m \u001b[43m_auth\u001b[49m\u001b[38;5;241;43m.\u001b[39;49m\u001b[43mdefault_credentials\u001b[49m\u001b[43m(\u001b[49m\n\u001b[1;32m    577\u001b[0m \u001b[43m        \u001b[49m\u001b[43mscopes\u001b[49m\u001b[38;5;241;43m=\u001b[39;49m\u001b[43mclient_options\u001b[49m\u001b[38;5;241;43m.\u001b[39;49m\u001b[43mscopes\u001b[49m\u001b[43m,\u001b[49m\n\u001b[1;32m    578\u001b[0m \u001b[43m        \u001b[49m\u001b[43mquota_project_id\u001b[49m\u001b[38;5;241;43m=\u001b[39;49m\u001b[43mclient_options\u001b[49m\u001b[38;5;241;43m.\u001b[39;49m\u001b[43mquota_project_id\u001b[49m\u001b[43m,\u001b[49m\n\u001b[1;32m    579\u001b[0m \u001b[43m    \u001b[49m\u001b[43m)\u001b[49m\n\u001b[1;32m    581\u001b[0m \u001b[38;5;66;03m# The credentials need to be scoped.\u001b[39;00m\n\u001b[1;32m    582\u001b[0m \u001b[38;5;66;03m# If the user provided scopes via client_options don't override them\u001b[39;00m\n\u001b[1;32m    583\u001b[0m \u001b[38;5;28;01mif\u001b[39;00m \u001b[38;5;129;01mnot\u001b[39;00m client_options\u001b[38;5;241m.\u001b[39mscopes:\n",
      "File \u001b[0;32m~/.local/share/virtualenvs/yt_sentiment-8_l80sZx/lib/python3.8/site-packages/googleapiclient/_auth.py:54\u001b[0m, in \u001b[0;36mdefault_credentials\u001b[0;34m(scopes, quota_project_id)\u001b[0m\n\u001b[1;32m     52\u001b[0m \u001b[38;5;124;03m\"\"\"Returns Application Default Credentials.\"\"\"\u001b[39;00m\n\u001b[1;32m     53\u001b[0m \u001b[38;5;28;01mif\u001b[39;00m HAS_GOOGLE_AUTH:\n\u001b[0;32m---> 54\u001b[0m     credentials, _ \u001b[38;5;241m=\u001b[39m \u001b[43mgoogle\u001b[49m\u001b[38;5;241;43m.\u001b[39;49m\u001b[43mauth\u001b[49m\u001b[38;5;241;43m.\u001b[39;49m\u001b[43mdefault\u001b[49m\u001b[43m(\u001b[49m\u001b[43mscopes\u001b[49m\u001b[38;5;241;43m=\u001b[39;49m\u001b[43mscopes\u001b[49m\u001b[43m,\u001b[49m\u001b[43m \u001b[49m\u001b[43mquota_project_id\u001b[49m\u001b[38;5;241;43m=\u001b[39;49m\u001b[43mquota_project_id\u001b[49m\u001b[43m)\u001b[49m\n\u001b[1;32m     55\u001b[0m     \u001b[38;5;28;01mreturn\u001b[39;00m credentials\n\u001b[1;32m     56\u001b[0m \u001b[38;5;28;01melif\u001b[39;00m HAS_OAUTH2CLIENT:\n",
      "File \u001b[0;32m~/.local/share/virtualenvs/yt_sentiment-8_l80sZx/lib/python3.8/site-packages/google/auth/_default.py:493\u001b[0m, in \u001b[0;36mdefault\u001b[0;34m(scopes, request, quota_project_id, default_scopes)\u001b[0m\n\u001b[1;32m    485\u001b[0m             _LOGGER\u001b[38;5;241m.\u001b[39mwarning(\n\u001b[1;32m    486\u001b[0m                 \u001b[38;5;124m\"\u001b[39m\u001b[38;5;124mNo project ID could be determined. Consider running \u001b[39m\u001b[38;5;124m\"\u001b[39m\n\u001b[1;32m    487\u001b[0m                 \u001b[38;5;124m\"\u001b[39m\u001b[38;5;124m`gcloud config set project` or setting the \u001b[39m\u001b[38;5;132;01m%s\u001b[39;00m\u001b[38;5;124m \u001b[39m\u001b[38;5;124m\"\u001b[39m\n\u001b[1;32m    488\u001b[0m                 \u001b[38;5;124m\"\u001b[39m\u001b[38;5;124menvironment variable\u001b[39m\u001b[38;5;124m\"\u001b[39m,\n\u001b[1;32m    489\u001b[0m                 environment_vars\u001b[38;5;241m.\u001b[39mPROJECT,\n\u001b[1;32m    490\u001b[0m             )\n\u001b[1;32m    491\u001b[0m         \u001b[38;5;28;01mreturn\u001b[39;00m credentials, effective_project_id\n\u001b[0;32m--> 493\u001b[0m \u001b[38;5;28;01mraise\u001b[39;00m exceptions\u001b[38;5;241m.\u001b[39mDefaultCredentialsError(_HELP_MESSAGE)\n",
      "\u001b[0;31mDefaultCredentialsError\u001b[0m: Could not automatically determine credentials. Please set GOOGLE_APPLICATION_CREDENTIALS or explicitly create credentials and re-run the application. For more information, please see https://cloud.google.com/docs/authentication/getting-started"
     ]
    }
   ],
   "source": [
    "try:\n",
    "    DEVELOPER_KEY = os.environ.get('YT_API_KEY')\n",
    "except KeyError:\n",
    "    print(\"Unable to find API key environement variable!\")\n",
    " \n",
    "yt = youtube(DEVELOPER_KEY)"
   ]
  },
  {
   "cell_type": "code",
   "execution_count": 8,
   "metadata": {},
   "outputs": [
    {
     "data": {
      "text/plain": [
       "environ{'SHELL': '/bin/zsh',\n",
       "        'LSCOLORS': 'Gxfxcxdxbxegedabagacad',\n",
       "        'VSCODE_VERBOSE_LOGGING': 'true',\n",
       "        'PYTHONUNBUFFERED': '1',\n",
       "        'LESS': '-R',\n",
       "        'XPC_FLAGS': '0x0',\n",
       "        'APPLICATION_INSIGHTS_NO_DIAGNOSTIC_CHANNEL': 'true',\n",
       "        'VSCODE_LOG_STACK': 'false',\n",
       "        '__CFBundleIdentifier': 'com.microsoft.VSCode',\n",
       "        'SSH_AUTH_SOCK': '/private/tmp/com.apple.launchd.iHQrgF0TqS/Listeners',\n",
       "        'ELECTRON_RUN_AS_NODE': '1',\n",
       "        'HOMEBREW_PREFIX': '/opt/homebrew',\n",
       "        'VSCODE_PIPE_LOGGING': 'true',\n",
       "        'VSCODE_AMD_ENTRYPOINT': 'vs/workbench/services/extensions/node/extensionHostProcess',\n",
       "        'PWD': '/',\n",
       "        'LOGNAME': 'nick',\n",
       "        'MANPATH': '/opt/homebrew/share/man::',\n",
       "        'VSCODE_CODE_CACHE_PATH': '/Users/nick/Library/Application Support/Code/CachedData/899d46d82c4c95423fb7e10e68eba52050e30ba3',\n",
       "        'COMMAND_MODE': 'unix2003',\n",
       "        'HOME': '/Users/nick',\n",
       "        'VSCODE_IPC_HOOK_EXTHOST': '/var/folders/lp/0w1crnnx0wz_n81k1pfgqgmh0000gn/T/vscode-ipc-489ff6e1-8170-4054-9186-4bd4282fc503.sock',\n",
       "        'VIRTUAL_ENV': '/Users/nick/.local/share/virtualenvs/yt_sentiment-8_l80sZx',\n",
       "        'VSCODE_IPC_HOOK': '/Users/nick/Library/Application Support/Code/1.63.2-main.sock',\n",
       "        'STARSHIP_SHELL': 'bash',\n",
       "        'TMPDIR': '/var/folders/lp/0w1crnnx0wz_n81k1pfgqgmh0000gn/T/',\n",
       "        'STARSHIP_SESSION_KEY': '7776289927067182',\n",
       "        'INFOPATH': '/opt/homebrew/share/info:',\n",
       "        'NVM_DIR': '/Users/nick/.nvm',\n",
       "        'ZSH': '/Users/nick/.oh-my-zsh',\n",
       "        'USER': 'nick',\n",
       "        'PYTHONIOENCODING': 'utf-8',\n",
       "        'HOMEBREW_CELLAR': '/opt/homebrew/Cellar',\n",
       "        'VSCODE_PID': '65546',\n",
       "        'SHLVL': '0',\n",
       "        'PAGER': 'cat',\n",
       "        'HOMEBREW_REPOSITORY': '/opt/homebrew',\n",
       "        'VSCODE_CWD': '/',\n",
       "        'XPC_SERVICE_NAME': 'application.com.microsoft.VSCode.4815493.4815499',\n",
       "        'PS1': '(yt_sentiment) ',\n",
       "        'PATH': '/Users/nick/.local/share/virtualenvs/yt_sentiment-8_l80sZx/bin:/opt/homebrew/bin:/opt/homebrew/sbin:/usr/local/bin:/usr/bin:/bin:/usr/sbin:/sbin',\n",
       "        'ORIGINAL_XDG_CURRENT_DESKTOP': 'undefined',\n",
       "        'VSCODE_NLS_CONFIG': '{\"locale\":\"en-gb\",\"availableLanguages\":{},\"_languagePackSupport\":true}',\n",
       "        'VSCODE_LOG_NATIVE': 'false',\n",
       "        'VSCODE_HANDLES_UNCAUGHT_ERRORS': 'true',\n",
       "        'OLDPWD': '/',\n",
       "        '__CF_USER_TEXT_ENCODING': '0x1F5:0:2',\n",
       "        '_': '/Users/nick/.local/share/virtualenvs/yt_sentiment-8_l80sZx/bin/python',\n",
       "        'LC_CTYPE': 'UTF-8',\n",
       "        'PYTHONPATH': '/Users/nick/.vscode/extensions/ms-toolsai.jupyter-2021.11.1001550889/pythonFiles:/Users/nick/.vscode/extensions/ms-toolsai.jupyter-2021.11.1001550889/pythonFiles/lib/python',\n",
       "        'PYDEVD_USE_FRAME_EVAL': 'NO',\n",
       "        'PYTHONWARNINGS': 'ignore',\n",
       "        'JPY_PARENT_PID': '66418',\n",
       "        'TERM': 'xterm-color',\n",
       "        'CLICOLOR': '1',\n",
       "        'GIT_PAGER': 'cat',\n",
       "        'MPLBACKEND': 'module://matplotlib_inline.backend_inline',\n",
       "        'OAUTHLIB_INSECURE_TRANSPORT': '1'}"
      ]
     },
     "execution_count": 8,
     "metadata": {},
     "output_type": "execute_result"
    }
   ],
   "source": [
    "os.environ"
   ]
  },
  {
   "cell_type": "code",
   "execution_count": 3,
   "metadata": {},
   "outputs": [
    {
     "name": "stdout",
     "output_type": "stream",
     "text": [
      "Categories table updated successfully!\n"
     ]
    }
   ],
   "source": [
    "dt = datetime.now()\n",
    "\n",
    "raw_categories = yt.VideoCategories('GB')\n",
    "categories = dict_search(raw_categories, [\"id\", \"title\", \"assignable\"])\n",
    "    \n",
    "for cat in categories:\n",
    "    cat['region'] = 'GB'\n",
    "    cat['time_updated'] = dt\n",
    "\n",
    "try: \n",
    "    with sqlite3.connect('yt_sentiment.db') as conn:\n",
    "        sql = \"INSERT OR REPLACE INTO \\\n",
    "            categories(category_id, title, assignable, region, time_updated) \\\n",
    "            VALUES(:id, :title, :assignable, :region, :time_updated)\"\n",
    "        conn.executemany(sql, categories)\n",
    "        print(\"Categories table updated successfully!\")\n",
    "        \n",
    "except sqlite3.Error as error:\n",
    "    print(\"Error while creating a sqlite table\", error)"
   ]
  }
 ],
 "metadata": {
  "interpreter": {
   "hash": "17945a635974aec1a967a252cb39291ec8c29ed89f214f92aed5fff0414722b6"
  },
  "kernelspec": {
   "display_name": "Python 3.8.9 64-bit ('yt_sentiment-8_l80sZx': pipenv)",
   "language": "python",
   "name": "python3"
  },
  "language_info": {
   "codemirror_mode": {
    "name": "ipython",
    "version": 3
   },
   "file_extension": ".py",
   "mimetype": "text/x-python",
   "name": "python",
   "nbconvert_exporter": "python",
   "pygments_lexer": "ipython3",
   "version": "3.8.9"
  },
  "orig_nbformat": 4
 },
 "nbformat": 4,
 "nbformat_minor": 2
}
