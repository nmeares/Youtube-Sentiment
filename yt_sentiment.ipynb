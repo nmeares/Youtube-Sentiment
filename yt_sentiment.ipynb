{
 "cells": [
  {
   "cell_type": "markdown",
   "metadata": {},
   "source": [
    "### Import dependencies"
   ]
  },
  {
   "cell_type": "code",
   "execution_count": 1,
   "metadata": {},
   "outputs": [],
   "source": [
    "from decouple import config\n",
    "import sqlite3\n",
    "import os\n",
    "from datetime import datetime\n",
    "\n",
    "from data_api import youtube\n",
    "from helpers import dict_search"
   ]
  },
  {
   "cell_type": "markdown",
   "metadata": {},
   "source": [
    "### Import Google Data API Key and Initiate Youtube API Class Instance\n",
    "1. Create Youtube Data API as per the instructions at: https://developers.google.com/youtube/v3/getting-started \\\n",
    "\n",
    "2. Set environment variable containing the API key by executing: `export YT_API_KEY=[insert private key here]`"
   ]
  },
  {
   "cell_type": "code",
   "execution_count": 4,
   "metadata": {},
   "outputs": [
    {
     "ename": "UndefinedValueError",
     "evalue": "YT_API_KEY not found. Declare it as envvar or define a default value.",
     "output_type": "error",
     "traceback": [
      "\u001b[0;31m---------------------------------------------------------------------------\u001b[0m",
      "\u001b[0;31mUndefinedValueError\u001b[0m                       Traceback (most recent call last)",
      "Input \u001b[0;32mIn [4]\u001b[0m, in \u001b[0;36m<module>\u001b[0;34m\u001b[0m\n\u001b[1;32m      1\u001b[0m \u001b[38;5;28;01mtry\u001b[39;00m:\n\u001b[0;32m----> 2\u001b[0m     DEVELOPER_KEY \u001b[38;5;241m=\u001b[39m \u001b[43mconfig\u001b[49m\u001b[43m(\u001b[49m\u001b[38;5;124;43m'\u001b[39;49m\u001b[38;5;124;43mYT_API_KEY\u001b[39;49m\u001b[38;5;124;43m'\u001b[39;49m\u001b[43m)\u001b[49m\n\u001b[1;32m      3\u001b[0m     \u001b[38;5;28mprint\u001b[39m(\u001b[38;5;124m\"\u001b[39m\u001b[38;5;124mSuccessfully imported key\u001b[39m\u001b[38;5;124m\"\u001b[39m)\n\u001b[1;32m      4\u001b[0m \u001b[38;5;28;01mexcept\u001b[39;00m \u001b[38;5;167;01mKeyError\u001b[39;00m:\n",
      "File \u001b[0;32m~/.local/share/virtualenvs/yt_sentiment-8_l80sZx/lib/python3.8/site-packages/decouple.py:206\u001b[0m, in \u001b[0;36mAutoConfig.__call__\u001b[0;34m(self, *args, **kwargs)\u001b[0m\n\u001b[1;32m    203\u001b[0m \u001b[38;5;28;01mif\u001b[39;00m \u001b[38;5;129;01mnot\u001b[39;00m \u001b[38;5;28mself\u001b[39m\u001b[38;5;241m.\u001b[39mconfig:\n\u001b[1;32m    204\u001b[0m     \u001b[38;5;28mself\u001b[39m\u001b[38;5;241m.\u001b[39m_load(\u001b[38;5;28mself\u001b[39m\u001b[38;5;241m.\u001b[39msearch_path \u001b[38;5;129;01mor\u001b[39;00m \u001b[38;5;28mself\u001b[39m\u001b[38;5;241m.\u001b[39m_caller_path())\n\u001b[0;32m--> 206\u001b[0m \u001b[38;5;28;01mreturn\u001b[39;00m \u001b[38;5;28;43mself\u001b[39;49m\u001b[38;5;241;43m.\u001b[39;49m\u001b[43mconfig\u001b[49m\u001b[43m(\u001b[49m\u001b[38;5;241;43m*\u001b[39;49m\u001b[43margs\u001b[49m\u001b[43m,\u001b[49m\u001b[43m \u001b[49m\u001b[38;5;241;43m*\u001b[39;49m\u001b[38;5;241;43m*\u001b[39;49m\u001b[43mkwargs\u001b[49m\u001b[43m)\u001b[49m\n",
      "File \u001b[0;32m~/.local/share/virtualenvs/yt_sentiment-8_l80sZx/lib/python3.8/site-packages/decouple.py:90\u001b[0m, in \u001b[0;36mConfig.__call__\u001b[0;34m(self, *args, **kwargs)\u001b[0m\n\u001b[1;32m     86\u001b[0m \u001b[38;5;28;01mdef\u001b[39;00m \u001b[38;5;21m__call__\u001b[39m(\u001b[38;5;28mself\u001b[39m, \u001b[38;5;241m*\u001b[39margs, \u001b[38;5;241m*\u001b[39m\u001b[38;5;241m*\u001b[39mkwargs):\n\u001b[1;32m     87\u001b[0m     \u001b[38;5;124;03m\"\"\"\u001b[39;00m\n\u001b[1;32m     88\u001b[0m \u001b[38;5;124;03m    Convenient shortcut to get.\u001b[39;00m\n\u001b[1;32m     89\u001b[0m \u001b[38;5;124;03m    \"\"\"\u001b[39;00m\n\u001b[0;32m---> 90\u001b[0m     \u001b[38;5;28;01mreturn\u001b[39;00m \u001b[38;5;28;43mself\u001b[39;49m\u001b[38;5;241;43m.\u001b[39;49m\u001b[43mget\u001b[49m\u001b[43m(\u001b[49m\u001b[38;5;241;43m*\u001b[39;49m\u001b[43margs\u001b[49m\u001b[43m,\u001b[49m\u001b[43m \u001b[49m\u001b[38;5;241;43m*\u001b[39;49m\u001b[38;5;241;43m*\u001b[39;49m\u001b[43mkwargs\u001b[49m\u001b[43m)\u001b[49m\n",
      "File \u001b[0;32m~/.local/share/virtualenvs/yt_sentiment-8_l80sZx/lib/python3.8/site-packages/decouple.py:75\u001b[0m, in \u001b[0;36mConfig.get\u001b[0;34m(self, option, default, cast)\u001b[0m\n\u001b[1;32m     73\u001b[0m \u001b[38;5;28;01melse\u001b[39;00m:\n\u001b[1;32m     74\u001b[0m     \u001b[38;5;28;01mif\u001b[39;00m \u001b[38;5;28misinstance\u001b[39m(default, Undefined):\n\u001b[0;32m---> 75\u001b[0m         \u001b[38;5;28;01mraise\u001b[39;00m UndefinedValueError(\u001b[38;5;124m'\u001b[39m\u001b[38;5;132;01m{}\u001b[39;00m\u001b[38;5;124m not found. Declare it as envvar or define a default value.\u001b[39m\u001b[38;5;124m'\u001b[39m\u001b[38;5;241m.\u001b[39mformat(option))\n\u001b[1;32m     77\u001b[0m     value \u001b[38;5;241m=\u001b[39m default\n\u001b[1;32m     79\u001b[0m \u001b[38;5;28;01mif\u001b[39;00m \u001b[38;5;28misinstance\u001b[39m(cast, Undefined):\n",
      "\u001b[0;31mUndefinedValueError\u001b[0m: YT_API_KEY not found. Declare it as envvar or define a default value."
     ]
    }
   ],
   "source": [
    "try:\n",
    "    DEVELOPER_KEY = config('YT_API_KEY')\n",
    "    print(\"Successfully imported key\")\n",
    "except KeyError:\n",
    "    print(\"Unable to find API key environement variable!\")"
   ]
  },
  {
   "cell_type": "code",
   "execution_count": 5,
   "metadata": {},
   "outputs": [
    {
     "data": {
      "text/plain": [
       "environ{'SHELL': '/bin/zsh',\n",
       "        'LSCOLORS': 'Gxfxcxdxbxegedabagacad',\n",
       "        'VSCODE_VERBOSE_LOGGING': 'true',\n",
       "        'PYTHONUNBUFFERED': '1',\n",
       "        'LESS': '-R',\n",
       "        'XPC_FLAGS': '0x0',\n",
       "        'APPLICATION_INSIGHTS_NO_DIAGNOSTIC_CHANNEL': 'true',\n",
       "        'VSCODE_LOG_STACK': 'false',\n",
       "        '__CFBundleIdentifier': 'com.microsoft.VSCode',\n",
       "        'SSH_AUTH_SOCK': '/private/tmp/com.apple.launchd.iHQrgF0TqS/Listeners',\n",
       "        'ELECTRON_RUN_AS_NODE': '1',\n",
       "        'HOMEBREW_PREFIX': '/opt/homebrew',\n",
       "        'VSCODE_PIPE_LOGGING': 'true',\n",
       "        'VSCODE_AMD_ENTRYPOINT': 'vs/workbench/services/extensions/node/extensionHostProcess',\n",
       "        'PWD': '/',\n",
       "        'LOGNAME': 'nick',\n",
       "        'MANPATH': '/opt/homebrew/share/man::',\n",
       "        'VSCODE_CODE_CACHE_PATH': '/Users/nick/Library/Application Support/Code/CachedData/899d46d82c4c95423fb7e10e68eba52050e30ba3',\n",
       "        'COMMAND_MODE': 'unix2003',\n",
       "        'HOME': '/Users/nick',\n",
       "        'VSCODE_IPC_HOOK_EXTHOST': '/var/folders/lp/0w1crnnx0wz_n81k1pfgqgmh0000gn/T/vscode-ipc-e3cb1e12-9cfc-4ed2-b44d-2ee77827d7d5.sock',\n",
       "        'VIRTUAL_ENV': '/Users/nick/.local/share/virtualenvs/yt_sentiment-8_l80sZx',\n",
       "        'VSCODE_IPC_HOOK': '/Users/nick/Library/Application Support/Code/1.63.2-main.sock',\n",
       "        'STARSHIP_SHELL': 'bash',\n",
       "        'TMPDIR': '/var/folders/lp/0w1crnnx0wz_n81k1pfgqgmh0000gn/T/',\n",
       "        'STARSHIP_SESSION_KEY': '2953620696272261',\n",
       "        'INFOPATH': '/opt/homebrew/share/info:',\n",
       "        'NVM_DIR': '/Users/nick/.nvm',\n",
       "        'ZSH': '/Users/nick/.oh-my-zsh',\n",
       "        'USER': 'nick',\n",
       "        'PYTHONIOENCODING': 'utf-8',\n",
       "        'HOMEBREW_CELLAR': '/opt/homebrew/Cellar',\n",
       "        'VSCODE_PID': '69746',\n",
       "        'SHLVL': '0',\n",
       "        'PAGER': 'cat',\n",
       "        'HOMEBREW_REPOSITORY': '/opt/homebrew',\n",
       "        'VSCODE_CWD': '/',\n",
       "        'XPC_SERVICE_NAME': 'application.com.microsoft.VSCode.4815493.4815499',\n",
       "        'PS1': '(yt_sentiment) ',\n",
       "        'PATH': '/Users/nick/.local/share/virtualenvs/yt_sentiment-8_l80sZx/bin:/opt/homebrew/bin:/opt/homebrew/sbin:/usr/local/bin:/usr/bin:/bin:/usr/sbin:/sbin',\n",
       "        'ORIGINAL_XDG_CURRENT_DESKTOP': 'undefined',\n",
       "        'VSCODE_NLS_CONFIG': '{\"locale\":\"en-gb\",\"availableLanguages\":{},\"_languagePackSupport\":true}',\n",
       "        'VSCODE_LOG_NATIVE': 'false',\n",
       "        'VSCODE_HANDLES_UNCAUGHT_ERRORS': 'true',\n",
       "        'OLDPWD': '/',\n",
       "        '__CF_USER_TEXT_ENCODING': '0x1F5:0:2',\n",
       "        '_': '/Users/nick/.local/share/virtualenvs/yt_sentiment-8_l80sZx/bin/python',\n",
       "        'LC_CTYPE': 'UTF-8',\n",
       "        'PYTHONPATH': '/Users/nick/.vscode/extensions/ms-toolsai.jupyter-2021.11.1001550889/pythonFiles:/Users/nick/.vscode/extensions/ms-toolsai.jupyter-2021.11.1001550889/pythonFiles/lib/python',\n",
       "        'PYDEVD_USE_FRAME_EVAL': 'NO',\n",
       "        'PYTHONWARNINGS': 'ignore',\n",
       "        'JPY_PARENT_PID': '70064',\n",
       "        'TERM': 'xterm-color',\n",
       "        'CLICOLOR': '1',\n",
       "        'GIT_PAGER': 'cat',\n",
       "        'MPLBACKEND': 'module://matplotlib_inline.backend_inline'}"
      ]
     },
     "execution_count": 5,
     "metadata": {},
     "output_type": "execute_result"
    }
   ],
   "source": [
    "yt = youtube(DEVELOPER_KEY)"
   ]
  },
  {
   "cell_type": "code",
   "execution_count": 3,
   "metadata": {},
   "outputs": [
    {
     "name": "stdout",
     "output_type": "stream",
     "text": [
      "Categories table updated successfully!\n"
     ]
    }
   ],
   "source": [
    "dt = datetime.now()\n",
    "\n",
    "raw_categories = yt.VideoCategories('GB')\n",
    "categories = dict_search(raw_categories, [\"id\", \"title\", \"assignable\"])\n",
    "    \n",
    "for cat in categories:\n",
    "    cat['region'] = 'GB'\n",
    "    cat['time_updated'] = dt\n",
    "\n",
    "try: \n",
    "    with sqlite3.connect('yt_sentiment.db') as conn:\n",
    "        sql = \"INSERT OR REPLACE INTO \\\n",
    "            categories(category_id, title, assignable, region, time_updated) \\\n",
    "            VALUES(:id, :title, :assignable, :region, :time_updated)\"\n",
    "        conn.executemany(sql, categories)\n",
    "        print(\"Categories table updated successfully!\")\n",
    "        \n",
    "except sqlite3.Error as error:\n",
    "    print(\"Error while creating a sqlite table\", error)"
   ]
  }
 ],
 "metadata": {
  "interpreter": {
   "hash": "17945a635974aec1a967a252cb39291ec8c29ed89f214f92aed5fff0414722b6"
  },
  "kernelspec": {
   "display_name": "Python 3.8.9 64-bit ('yt_sentiment-8_l80sZx': pipenv)",
   "language": "python",
   "name": "python3"
  },
  "language_info": {
   "codemirror_mode": {
    "name": "ipython",
    "version": 3
   },
   "file_extension": ".py",
   "mimetype": "text/x-python",
   "name": "python",
   "nbconvert_exporter": "python",
   "pygments_lexer": "ipython3",
   "version": "3.8.9"
  },
  "orig_nbformat": 4
 },
 "nbformat": 4,
 "nbformat_minor": 2
}
