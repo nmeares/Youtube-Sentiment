{
 "cells": [
  {
   "cell_type": "markdown",
   "metadata": {},
   "source": [
    "### Import dependencies"
   ]
  },
  {
   "cell_type": "code",
   "execution_count": 1,
   "metadata": {},
   "outputs": [],
   "source": [
    "from decouple import config\n",
    "import sqlite3\n",
    "import os\n",
    "from datetime import datetime\n",
    "\n",
    "from data_api import youtube\n",
    "from helpers import dict_search"
   ]
  },
  {
   "cell_type": "markdown",
   "metadata": {},
   "source": [
    "### Import Google Data API Key and Initiate Youtube API Class Instance\n",
    "1. Create Youtube Data API as per the instructions at: https://developers.google.com/youtube/v3/getting-started \\\n",
    "\n",
    "2. Set environment variable containing the API key by executing: `export YT_API_KEY=[insert private key here]`"
   ]
  },
  {
   "cell_type": "code",
   "execution_count": 4,
   "metadata": {},
   "outputs": [
    {
     "name": "stdout",
     "output_type": "stream",
     "text": [
      "Unable to find API key environement variable!\n"
     ]
    }
   ],
   "source": [
    "try:\n",
    "    DEVELOPER_KEY = config['YT_API_KEY']\n",
    "    print(\"Successfully imported key\")\n",
    "except KeyError:\n",
    "    print(\"Unable to find API key environement variable!\")"
   ]
  },
  {
   "cell_type": "code",
   "execution_count": 5,
   "metadata": {},
   "outputs": [
    {
     "data": {
      "text/plain": [
       "environ{'SHELL': '/bin/zsh',\n",
       "        'LSCOLORS': 'Gxfxcxdxbxegedabagacad',\n",
       "        'VSCODE_VERBOSE_LOGGING': 'true',\n",
       "        'PYTHONUNBUFFERED': '1',\n",
       "        'LESS': '-R',\n",
       "        'XPC_FLAGS': '0x0',\n",
       "        'APPLICATION_INSIGHTS_NO_DIAGNOSTIC_CHANNEL': 'true',\n",
       "        'VSCODE_LOG_STACK': 'false',\n",
       "        '__CFBundleIdentifier': 'com.microsoft.VSCode',\n",
       "        'SSH_AUTH_SOCK': '/private/tmp/com.apple.launchd.iHQrgF0TqS/Listeners',\n",
       "        'ELECTRON_RUN_AS_NODE': '1',\n",
       "        'HOMEBREW_PREFIX': '/opt/homebrew',\n",
       "        'VSCODE_PIPE_LOGGING': 'true',\n",
       "        'VSCODE_AMD_ENTRYPOINT': 'vs/workbench/services/extensions/node/extensionHostProcess',\n",
       "        'PWD': '/',\n",
       "        'LOGNAME': 'nick',\n",
       "        'MANPATH': '/opt/homebrew/share/man::',\n",
       "        'VSCODE_CODE_CACHE_PATH': '/Users/nick/Library/Application Support/Code/CachedData/899d46d82c4c95423fb7e10e68eba52050e30ba3',\n",
       "        'COMMAND_MODE': 'unix2003',\n",
       "        'HOME': '/Users/nick',\n",
       "        'VSCODE_IPC_HOOK_EXTHOST': '/var/folders/lp/0w1crnnx0wz_n81k1pfgqgmh0000gn/T/vscode-ipc-e3cb1e12-9cfc-4ed2-b44d-2ee77827d7d5.sock',\n",
       "        'VIRTUAL_ENV': '/Users/nick/.local/share/virtualenvs/yt_sentiment-8_l80sZx',\n",
       "        'VSCODE_IPC_HOOK': '/Users/nick/Library/Application Support/Code/1.63.2-main.sock',\n",
       "        'STARSHIP_SHELL': 'bash',\n",
       "        'TMPDIR': '/var/folders/lp/0w1crnnx0wz_n81k1pfgqgmh0000gn/T/',\n",
       "        'STARSHIP_SESSION_KEY': '2953620696272261',\n",
       "        'INFOPATH': '/opt/homebrew/share/info:',\n",
       "        'NVM_DIR': '/Users/nick/.nvm',\n",
       "        'ZSH': '/Users/nick/.oh-my-zsh',\n",
       "        'USER': 'nick',\n",
       "        'PYTHONIOENCODING': 'utf-8',\n",
       "        'HOMEBREW_CELLAR': '/opt/homebrew/Cellar',\n",
       "        'VSCODE_PID': '69746',\n",
       "        'SHLVL': '0',\n",
       "        'PAGER': 'cat',\n",
       "        'HOMEBREW_REPOSITORY': '/opt/homebrew',\n",
       "        'VSCODE_CWD': '/',\n",
       "        'XPC_SERVICE_NAME': 'application.com.microsoft.VSCode.4815493.4815499',\n",
       "        'PS1': '(yt_sentiment) ',\n",
       "        'PATH': '/Users/nick/.local/share/virtualenvs/yt_sentiment-8_l80sZx/bin:/opt/homebrew/bin:/opt/homebrew/sbin:/usr/local/bin:/usr/bin:/bin:/usr/sbin:/sbin',\n",
       "        'ORIGINAL_XDG_CURRENT_DESKTOP': 'undefined',\n",
       "        'VSCODE_NLS_CONFIG': '{\"locale\":\"en-gb\",\"availableLanguages\":{},\"_languagePackSupport\":true}',\n",
       "        'VSCODE_LOG_NATIVE': 'false',\n",
       "        'VSCODE_HANDLES_UNCAUGHT_ERRORS': 'true',\n",
       "        'OLDPWD': '/',\n",
       "        '__CF_USER_TEXT_ENCODING': '0x1F5:0:2',\n",
       "        '_': '/Users/nick/.local/share/virtualenvs/yt_sentiment-8_l80sZx/bin/python',\n",
       "        'LC_CTYPE': 'UTF-8',\n",
       "        'PYTHONPATH': '/Users/nick/.vscode/extensions/ms-toolsai.jupyter-2021.11.1001550889/pythonFiles:/Users/nick/.vscode/extensions/ms-toolsai.jupyter-2021.11.1001550889/pythonFiles/lib/python',\n",
       "        'PYDEVD_USE_FRAME_EVAL': 'NO',\n",
       "        'PYTHONWARNINGS': 'ignore',\n",
       "        'JPY_PARENT_PID': '70064',\n",
       "        'TERM': 'xterm-color',\n",
       "        'CLICOLOR': '1',\n",
       "        'GIT_PAGER': 'cat',\n",
       "        'MPLBACKEND': 'module://matplotlib_inline.backend_inline'}"
      ]
     },
     "execution_count": 5,
     "metadata": {},
     "output_type": "execute_result"
    }
   ],
   "source": [
    "os.environ"
   ]
  },
  {
   "cell_type": "code",
   "execution_count": 3,
   "metadata": {},
   "outputs": [
    {
     "name": "stdout",
     "output_type": "stream",
     "text": [
      "Categories table updated successfully!\n"
     ]
    }
   ],
   "source": [
    "dt = datetime.now()\n",
    "\n",
    "raw_categories = yt.VideoCategories('GB')\n",
    "categories = dict_search(raw_categories, [\"id\", \"title\", \"assignable\"])\n",
    "    \n",
    "for cat in categories:\n",
    "    cat['region'] = 'GB'\n",
    "    cat['time_updated'] = dt\n",
    "\n",
    "try: \n",
    "    with sqlite3.connect('yt_sentiment.db') as conn:\n",
    "        sql = \"INSERT OR REPLACE INTO \\\n",
    "            categories(category_id, title, assignable, region, time_updated) \\\n",
    "            VALUES(:id, :title, :assignable, :region, :time_updated)\"\n",
    "        conn.executemany(sql, categories)\n",
    "        print(\"Categories table updated successfully!\")\n",
    "        \n",
    "except sqlite3.Error as error:\n",
    "    print(\"Error while creating a sqlite table\", error)"
   ]
  }
 ],
 "metadata": {
  "interpreter": {
   "hash": "17945a635974aec1a967a252cb39291ec8c29ed89f214f92aed5fff0414722b6"
  },
  "kernelspec": {
   "display_name": "Python 3.8.9 64-bit ('yt_sentiment-8_l80sZx': pipenv)",
   "language": "python",
   "name": "python3"
  },
  "language_info": {
   "codemirror_mode": {
    "name": "ipython",
    "version": 3
   },
   "file_extension": ".py",
   "mimetype": "text/x-python",
   "name": "python",
   "nbconvert_exporter": "python",
   "pygments_lexer": "ipython3",
   "version": "3.8.9"
  },
  "orig_nbformat": 4
 },
 "nbformat": 4,
 "nbformat_minor": 2
}
