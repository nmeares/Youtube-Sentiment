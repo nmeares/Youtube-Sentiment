{
 "cells": [
  {
   "cell_type": "markdown",
   "metadata": {},
   "source": [
    "# Youtube Analysis \n",
    "Proof of concept project for analysing the sentiment of videos returned by searching for a key word (i.e. product name). \n",
    "\n",
    "Initial implimentation uses NLP to assess the polarity of comments for each video combining this with other metrics to return an overall sentiment score.\n",
    "\n",
    "Future additions will integrate a company product list and security identifiers to link companies/ tickers to sentiment scores, allowing for statistical assessment of it's predictive power with regards to stock price.\n"
   ]
  },
  {
   "cell_type": "markdown",
   "metadata": {},
   "source": [
    "## Setup\n",
    "\n",
    "1. Create Youtube Data API key as per the instructions [here](https://developers.google.com/youtube/v3/getting-started) \n",
    "\n",
    "2. Create `.env` file containing the key as follows: `YT_API_KEY=[key]`\n",
    "   \n",
    "3. Finally, after installing SpaCy in your environment, ensure the language library is installed by running the below command in the terminal:\n",
    "\n",
    "```shell\n",
    "                                        spacy download en_core_web_sm\n",
    "```"
   ]
  },
  {
   "cell_type": "markdown",
   "metadata": {},
   "source": [
    "#### Dependencies"
   ]
  },
  {
   "cell_type": "code",
   "execution_count": 25,
   "metadata": {},
   "outputs": [],
   "source": [
    "import os\n",
    "import pandas as pd\n",
    "\n",
    "import Library.database\n",
    "from Library.data_api import youtube\n",
    "from Library.helpers import dict_search, min_max_scaler"
   ]
  },
  {
   "cell_type": "markdown",
   "metadata": {},
   "source": [
    "##### Import Google Data API Key and Initiate Youtube API Class Instance\n"
   ]
  },
  {
   "cell_type": "code",
   "execution_count": 26,
   "metadata": {},
   "outputs": [],
   "source": [
    "# Import env variables and set API key\n",
    "from dotenv import load_dotenv # Needed to insure .env file imported into jupyter env\n",
    "load_dotenv() \n",
    "\n",
    "DEVELOPER_KEY = os.environ.get('YT_API_KEY')\n",
    "\n",
    "\n",
    "# Create YouTube Data API object\n",
    "yt = youtube(DEVELOPER_KEY)"
   ]
  },
  {
   "cell_type": "markdown",
   "metadata": {},
   "source": [
    "## Search\n",
    "Run a search using the key term, returning the IDs of relevant videos ordered by upload date."
   ]
  },
  {
   "cell_type": "code",
   "execution_count": 27,
   "metadata": {},
   "outputs": [],
   "source": [
    "# Enter keyword below:\n",
    "keyword = 'macbook' # Macbook as an example"
   ]
  },
  {
   "cell_type": "code",
   "execution_count": 28,
   "metadata": {},
   "outputs": [],
   "source": [
    "# Use search method to retrieve IDs\n",
    "response = yt.search(keyword, order='date', regionCode='US')\n",
    "raw_ids = dict_search(response, [\"videoId\"], list_depth=2)\n",
    "ids = [row['videoId'] for row in raw_ids]"
   ]
  },
  {
   "cell_type": "code",
   "execution_count": 29,
   "metadata": {},
   "outputs": [
    {
     "data": {
      "text/html": [
       "<div>\n",
       "<style scoped>\n",
       "    .dataframe tbody tr th:only-of-type {\n",
       "        vertical-align: middle;\n",
       "    }\n",
       "\n",
       "    .dataframe tbody tr th {\n",
       "        vertical-align: top;\n",
       "    }\n",
       "\n",
       "    .dataframe thead th {\n",
       "        text-align: right;\n",
       "    }\n",
       "</style>\n",
       "<table border=\"1\" class=\"dataframe\">\n",
       "  <thead>\n",
       "    <tr style=\"text-align: right;\">\n",
       "      <th></th>\n",
       "      <th>id</th>\n",
       "      <th>publishedAt</th>\n",
       "      <th>channelId</th>\n",
       "      <th>title</th>\n",
       "      <th>channelTitle</th>\n",
       "      <th>categoryId</th>\n",
       "      <th>viewCount</th>\n",
       "      <th>likeCount</th>\n",
       "      <th>commentCount</th>\n",
       "    </tr>\n",
       "  </thead>\n",
       "  <tbody>\n",
       "    <tr>\n",
       "      <th>0</th>\n",
       "      <td>_oLTkqiehAk</td>\n",
       "      <td>2022-02-06T17:30:48Z</td>\n",
       "      <td>UChjRM_qQAaOAiLNbOGbYcRA</td>\n",
       "      <td>2022 M2 MacBook Pro First Details - Apple is m...</td>\n",
       "      <td>9to5Mac</td>\n",
       "      <td>28</td>\n",
       "      <td>4783</td>\n",
       "      <td>297</td>\n",
       "      <td>22</td>\n",
       "    </tr>\n",
       "    <tr>\n",
       "      <th>1</th>\n",
       "      <td>VcxX1-qn6NQ</td>\n",
       "      <td>2022-02-06T15:00:12Z</td>\n",
       "      <td>UCtCPnSDNWa1i7KFYQxRzaoQ</td>\n",
       "      <td>Que MacBook Air comprar en 2022?</td>\n",
       "      <td>Rodri Royg</td>\n",
       "      <td>28</td>\n",
       "      <td>950</td>\n",
       "      <td>116</td>\n",
       "      <td>25</td>\n",
       "    </tr>\n",
       "    <tr>\n",
       "      <th>2</th>\n",
       "      <td>Ss2bh_tBMn0</td>\n",
       "      <td>2022-02-06T15:00:15Z</td>\n",
       "      <td>UCRU9gfeM85WxFqxJFrDsCFQ</td>\n",
       "      <td>MUST HAVE Apps on M1 Pro MacBook Pro 16\"</td>\n",
       "      <td>Cole Caccamise</td>\n",
       "      <td>28</td>\n",
       "      <td>110</td>\n",
       "      <td>16</td>\n",
       "      <td>12</td>\n",
       "    </tr>\n",
       "    <tr>\n",
       "      <th>3</th>\n",
       "      <td>7zC4yI3KUvI</td>\n",
       "      <td>2022-02-06T15:00:12Z</td>\n",
       "      <td>UCT5DzezG43sRlcZgxvlP1eA</td>\n",
       "      <td>M1 Max işlemcili 16'' Macbook Pro Kutu Açılımı...</td>\n",
       "      <td>GoldPunch</td>\n",
       "      <td>28</td>\n",
       "      <td>46</td>\n",
       "      <td>9</td>\n",
       "      <td>4</td>\n",
       "    </tr>\n",
       "    <tr>\n",
       "      <th>4</th>\n",
       "      <td>i9Pgv6M6el8</td>\n",
       "      <td>2022-02-06T14:39:43Z</td>\n",
       "      <td>UC7zA75VM2OxhHEzirU2oVQg</td>\n",
       "      <td>Macbook Pro 14 after 2 Months - The PROS and t...</td>\n",
       "      <td>W2Best Tech</td>\n",
       "      <td>28</td>\n",
       "      <td>127</td>\n",
       "      <td>20</td>\n",
       "      <td>6</td>\n",
       "    </tr>\n",
       "  </tbody>\n",
       "</table>\n",
       "</div>"
      ],
      "text/plain": [
       "            id           publishedAt                 channelId  \\\n",
       "0  _oLTkqiehAk  2022-02-06T17:30:48Z  UChjRM_qQAaOAiLNbOGbYcRA   \n",
       "1  VcxX1-qn6NQ  2022-02-06T15:00:12Z  UCtCPnSDNWa1i7KFYQxRzaoQ   \n",
       "2  Ss2bh_tBMn0  2022-02-06T15:00:15Z  UCRU9gfeM85WxFqxJFrDsCFQ   \n",
       "3  7zC4yI3KUvI  2022-02-06T15:00:12Z  UCT5DzezG43sRlcZgxvlP1eA   \n",
       "4  i9Pgv6M6el8  2022-02-06T14:39:43Z  UC7zA75VM2OxhHEzirU2oVQg   \n",
       "\n",
       "                                               title    channelTitle  \\\n",
       "0  2022 M2 MacBook Pro First Details - Apple is m...         9to5Mac   \n",
       "1                   Que MacBook Air comprar en 2022?      Rodri Royg   \n",
       "2           MUST HAVE Apps on M1 Pro MacBook Pro 16\"  Cole Caccamise   \n",
       "3  M1 Max işlemcili 16'' Macbook Pro Kutu Açılımı...       GoldPunch   \n",
       "4  Macbook Pro 14 after 2 Months - The PROS and t...     W2Best Tech   \n",
       "\n",
       "  categoryId viewCount likeCount commentCount  \n",
       "0         28      4783       297           22  \n",
       "1         28       950       116           25  \n",
       "2         28       110        16           12  \n",
       "3         28        46         9            4  \n",
       "4         28       127        20            6  "
      ]
     },
     "execution_count": 29,
     "metadata": {},
     "output_type": "execute_result"
    }
   ],
   "source": [
    "# Retrieve general information for each video\n",
    "raw_stats = yt.video_stats(ids)\n",
    "clean_stats = dict_search(raw_stats, [\n",
    "    \"id\", \n",
    "    \"title\",\n",
    "    \"decription\", \n",
    "    \"channelTitle\",\n",
    "    \"channelId\", \n",
    "    \"categoryId\", \n",
    "    \"viewCount\", \n",
    "    \"likeCount\", \n",
    "    \"commentCount\", \n",
    "    \"publishedAt\"], list_depth=2)\n",
    "stats_df = pd.DataFrame(clean_stats)\n",
    "stats_df.head(5)"
   ]
  },
  {
   "cell_type": "code",
   "execution_count": 30,
   "metadata": {},
   "outputs": [],
   "source": [
    "# Retrieve top level comment threads for each video to be used to guage polarity\n",
    "raw_comments = yt.commentThread(ids)\n",
    "comments = dict_search(raw_comments, [\n",
    "    \"videoId\",\n",
    "    \"textDisplay\",\n",
    "    \"publishedAt\"\n",
    "    ], list_depth=2)\n",
    "comments_df = pd.DataFrame(comments)"
   ]
  },
  {
   "cell_type": "code",
   "execution_count": 31,
   "metadata": {},
   "outputs": [],
   "source": [
    "# Rename id, comments and comment publishedAt columns and merge with stats dataframe\n",
    "stats_df.rename(columns={'id':'videoId'}, inplace=True)\n",
    "comments_df.rename(columns={'textDisplay':'comment', 'publishedAt':'commentDate'}, inplace=True)\n",
    "merged_df = pd.merge(stats_df, comments_df, how='left', on='videoId')\n",
    "merged_df['comment'].fillna('', inplace=True)"
   ]
  },
  {
   "cell_type": "code",
   "execution_count": 32,
   "metadata": {},
   "outputs": [],
   "source": [
    "# Retrieve channel stats for each video and merge with other dataframe\n",
    "raw_channelStats = yt.channel(stats_df['channelId'].to_list(), part=\"statistics\")\n",
    "channelStats = dict_search(raw_channelStats, [\n",
    "    \"id\", \n",
    "    \"subscriberCount\", \n",
    "    \"videoCount\"\n",
    "    ], list_depth=2)\n",
    "channel_df = pd.DataFrame(channelStats)\n",
    "\n",
    "# Rename ID column and merge\n",
    "channel_df.rename(columns={'id':'channelId'}, inplace=True)\n",
    "merged_df = pd.merge(merged_df, channel_df, how='left', on='channelId')"
   ]
  },
  {
   "cell_type": "markdown",
   "metadata": {},
   "source": [
    "## Sentiment Analysis\n",
    "Initial data munging is done to clean up the raw data for easier analysis"
   ]
  },
  {
   "cell_type": "code",
   "execution_count": 33,
   "metadata": {},
   "outputs": [],
   "source": [
    "# Import sentiment object for analysis\n",
    "from Library.analysis import sentiment\n",
    "\n",
    "# Analyse each comment and give polarity score\n",
    "# 1: Positive, 0: Neutral, -1: Negative\n",
    "comment_list = merged_df['comment'].astype(str).to_list()\n",
    "s = sentiment(comment_list)\n",
    "merged_df['comment_polarity'] = s.polarity()"
   ]
  },
  {
   "cell_type": "code",
   "execution_count": 34,
   "metadata": {},
   "outputs": [],
   "source": [
    "# amend data type in count columns from string to integers\n",
    "merged_df[['likeCount', 'viewCount', 'commentCount', 'subscriberCount']] = merged_df[['likeCount', 'viewCount', 'commentCount', 'subscriberCount']].astype(int)\n",
    "for column in ['publishedAt', 'commentDate']:\n",
    "    merged_df[column] = merged_df[column].astype('datetime64').dt.normalize()\n",
    "\n",
    "df = merged_df.copy()\n",
    "\n",
    "# Polarity scaled by comment count\n",
    "df['comment_polarity'] /= df['commentCount']\n",
    "\n",
    "df['view_sub_ratio'] = df['viewCount'] / df['subscriberCount']\n",
    "df['like_view_ratio'] = df['likeCount'] / df['viewCount']\n",
    "df['comment_view_ratio'] = df['commentCount'] / df['viewCount']"
   ]
  },
  {
   "cell_type": "markdown",
   "metadata": {},
   "source": [
    "### Create Comment Polarity Time Series\n",
    "Exploratory analysis of comment sentiment (all comments across all videos).<br> Polarity for each day is taken as the mean polarity score, with the time series being normalised to easily analyse the trend. <br>Volume of comments over time has then been overlayed to help assess the strength of the signal.\n"
   ]
  },
  {
   "cell_type": "code",
   "execution_count": 35,
   "metadata": {},
   "outputs": [],
   "source": [
    "import matplotlib.pyplot as plt\n",
    "\n",
    "# Sentiment time series\n",
    "time_series = df.copy()\n",
    "time_series = time_series.groupby('commentDate').agg(polarity=('comment_polarity','mean'), count = ('commentDate','size')).reset_index()\n",
    "time_series.fillna(0, inplace=True)"
   ]
  },
  {
   "cell_type": "code",
   "execution_count": 36,
   "metadata": {},
   "outputs": [],
   "source": [
    "# Normalise comment polarity\n",
    "time_series['polarity'] = min_max_scaler(time_series['polarity'])\n",
    "time_series.set_index('commentDate', inplace=True)"
   ]
  },
  {
   "cell_type": "code",
   "execution_count": 40,
   "metadata": {},
   "outputs": [
    {
     "data": {
      "text/plain": [
       "Text(0, 0.5, 'Comments')"
      ]
     },
     "execution_count": 40,
     "metadata": {},
     "output_type": "execute_result"
    },
    {
     "data": {
      "image/png": "[encoded data removed]",
      "text/plain": [
       "<Figure size 720x504 with 2 Axes>"
      ]
     },
     "metadata": {
      "needs_background": "light"
     },
     "output_type": "display_data"
    }
   ],
   "source": [
    "fig, ax1 = plt.subplots(figsize=(10,7))\n",
    "ax2 = ax1.twinx()\n",
    "ax1.plot(time_series['polarity'])\n",
    "ax1.set_ylabel('Polarity')\n",
    "ax2.bar(time_series.index, time_series['count'], color='orange')\n",
    "ax2.set_ylabel('Comments')"
   ]
  },
  {
   "cell_type": "markdown",
   "metadata": {},
   "source": [
    "### Creating a sentiment score\n",
    "We assess that sentiment can be summarised by: <br>\n",
    "<br>\n",
    "$\\text{Sentiment} = \\dfrac{\\sum\\text{Comment Polarity}}{\\text{Video comment Count}} \\times \\dfrac{\\text{Video Views}}{\\text{Channel Subscribers}}$"
   ]
  },
  {
   "cell_type": "code",
   "execution_count": null,
   "metadata": {},
   "outputs": [],
   "source": [
    "\n",
    "# Groupby, summing polarity of comments for each video ID\n",
    "df = df.groupby(['videoId','view_sub_ratio', 'like_view_ratio', 'comment_view_ratio', 'subscriberCount']).agg({'comment_polarity':['sum']}).reset_index()\n",
    "df.columns = df.columns.droplevel(1)\n",
    "\n",
    "# Create video sentiment score\n",
    "df['sentiment'] = df['comment_polarity']*df['view_sub_ratio']\n",
    "\n",
    "df.head(5)\n"
   ]
  },
  {
   "cell_type": "markdown",
   "metadata": {},
   "source": [
    "## Stock Price Predictive Power\n",
    "\n",
    "\\*\\*TODO\\*\\*"
   ]
  }
 ],
 "metadata": {
  "interpreter": {
   "hash": "17945a635974aec1a967a252cb39291ec8c29ed89f214f92aed5fff0414722b6"
  },
  "kernelspec": {
   "display_name": "Python 3.8.9 64-bit ('yt_sentiment-8_l80sZx': pipenv)",
   "language": "python",
   "name": "python3"
  },
  "language_info": {
   "codemirror_mode": {
    "name": "ipython",
    "version": 3
   },
   "file_extension": ".py",
   "mimetype": "text/x-python",
   "name": "python",
   "nbconvert_exporter": "python",
   "pygments_lexer": "ipython3",
   "version": "3.8.9"
  },
  "orig_nbformat": 4
 },
 "nbformat": 4,
 "nbformat_minor": 2
}
