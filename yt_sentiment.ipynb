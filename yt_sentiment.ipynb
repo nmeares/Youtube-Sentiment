{
 "cells": [
  {
   "cell_type": "markdown",
   "metadata": {},
   "source": [
    "### Import dependencies"
   ]
  },
  {
   "cell_type": "code",
   "execution_count": 1,
   "metadata": {},
   "outputs": [],
   "source": [
    "import json\n",
    "import sqlite3\n",
    "from datetime import datetime\n",
    "\n",
    "from data_api import youtube\n",
    "from helpers import dict_search"
   ]
  },
  {
   "cell_type": "markdown",
   "metadata": {},
   "source": [
    "### Import Google Data API Key and Initiate Youtube API Class Instance\n",
    "Create Youtube Data API as per the instructions at: https://developers.google.com/youtube/v3/getting-started \\\n",
    "\\\n",
    "Create environment variable containing the API key by executing '''export YT_API_KEY=[insert private key here]'''"
   ]
  },
  {
   "cell_type": "code",
   "execution_count": 2,
   "metadata": {},
   "outputs": [],
   "source": [
    "with open(\"./key.json\") as f:\n",
    "        DEVELOPER_KEY = json.load(f)['key']\n",
    "    \n",
    "yt = youtube(DEVELOPER_KEY)"
   ]
  },
  {
   "cell_type": "code",
   "execution_count": 3,
   "metadata": {},
   "outputs": [
    {
     "name": "stdout",
     "output_type": "stream",
     "text": [
      "Categories table updated successfully!\n"
     ]
    }
   ],
   "source": [
    "dt = datetime.now()\n",
    "\n",
    "raw_categories = yt.VideoCategories('GB')\n",
    "categories = dict_search(raw_categories, [\"id\", \"title\", \"assignable\"])\n",
    "    \n",
    "for cat in categories:\n",
    "    cat['region'] = 'GB'\n",
    "    cat['time_updated'] = dt\n",
    "\n",
    "try: \n",
    "    with sqlite3.connect('yt_sentiment.db') as conn:\n",
    "        sql = \"INSERT OR REPLACE INTO \\\n",
    "            categories(category_id, title, assignable, region, time_updated) \\\n",
    "            VALUES(:id, :title, :assignable, :region, :time_updated)\"\n",
    "        conn.executemany(sql, categories)\n",
    "        print(\"Categories table updated successfully!\")\n",
    "        \n",
    "except sqlite3.Error as error:\n",
    "    print(\"Error while creating a sqlite table\", error)"
   ]
  }
 ],
 "metadata": {
  "interpreter": {
   "hash": "17945a635974aec1a967a252cb39291ec8c29ed89f214f92aed5fff0414722b6"
  },
  "kernelspec": {
   "display_name": "Python 3.8.9 64-bit ('yt_sentiment-8_l80sZx': pipenv)",
   "language": "python",
   "name": "python3"
  },
  "language_info": {
   "codemirror_mode": {
    "name": "ipython",
    "version": 3
   },
   "file_extension": ".py",
   "mimetype": "text/x-python",
   "name": "python",
   "nbconvert_exporter": "python",
   "pygments_lexer": "ipython3",
   "version": "3.8.9"
  },
  "orig_nbformat": 4
 },
 "nbformat": 4,
 "nbformat_minor": 2
}
