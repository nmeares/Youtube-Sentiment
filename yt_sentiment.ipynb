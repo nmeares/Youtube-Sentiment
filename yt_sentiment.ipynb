{
 "cells": [
  {
   "cell_type": "code",
   "execution_count": null,
   "metadata": {},
   "outputs": [],
   "source": [
    "import json\n",
    "import sqlite3\n",
    "from datetime import datetime\n",
    "\n",
    "from data_api import youtube\n",
    "from helpers import dict_search"
   ]
  },
  {
   "cell_type": "code",
   "execution_count": null,
   "metadata": {},
   "outputs": [],
   "source": [
    "with open(\"./key.json\") as f:\n",
    "        DEVELOPER_KEY = json.load(f)['key']\n",
    "    \n",
    "yt = youtube(DEVELOPER_KEY)"
   ]
  },
  {
   "cell_type": "code",
   "execution_count": null,
   "metadata": {},
   "outputs": [],
   "source": [
    "dt = datetime.now()\n",
    "\n",
    "raw_categories = yt.VideoCategories('GB')\n",
    "categories = dict_search(raw_categories, [\"id\", \"title\", \"assignable\"])\n",
    "    \n",
    "for cat in categories:\n",
    "    cat['region'] = 'GB'\n",
    "    cat['time_updated'] = dt\n",
    "\n",
    "try: \n",
    "    with sqlite3.connect('yt_sentiment.db') as conn:\n",
    "        sql = \"INSERT OR REPLACE INTO \\\n",
    "            categories(category_id, title, assignable, region, time_updated) \\\n",
    "            VALUES(:id, :title, :assignable, :region, :time_updated)\"\n",
    "        \n",
    "        conn.executemany(sql, categories)\n",
    "except sqlite3.Error as error:\n",
    "    print(\"Error while creating a sqlite table\", error)"
   ]
  }
 ],
 "metadata": {
  "interpreter": {
   "hash": "17945a635974aec1a967a252cb39291ec8c29ed89f214f92aed5fff0414722b6"
  },
  "kernelspec": {
   "display_name": "Python 3.8.9 64-bit ('yt_sentiment-8_l80sZx': pipenv)",
   "language": "python",
   "name": "python3"
  },
  "language_info": {
   "name": "python",
   "version": "3.8.9"
  },
  "orig_nbformat": 4
 },
 "nbformat": 4,
 "nbformat_minor": 2
}
